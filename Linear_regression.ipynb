{
 "cells": [
  {
   "cell_type": "markdown",
   "metadata": {},
   "source": [
    "Importing libraries"
   ]
  },
  {
   "cell_type": "code",
   "execution_count": 57,
   "metadata": {},
   "outputs": [],
   "source": [
    "from sklearn.preprocessing import StandardScaler\n",
    "from sklearn.linear_model import LinearRegression\n",
    "from sklearn.metrics import r2_score\n",
    "import pandas as pd\n",
    "import numpy as np\n",
    "import matplotlib.pyplot as plt\n",
    "from numpy import array"
   ]
  },
  {
   "cell_type": "markdown",
   "metadata": {},
   "source": []
  },
  {
   "cell_type": "code",
   "execution_count": 58,
   "metadata": {},
   "outputs": [],
   "source": [
    "training_data = pd.read_excel(\"mlr05.xls\", sheet_name=\"Mlr05\")"
   ]
  },
  {
   "cell_type": "code",
   "execution_count": 59,
   "metadata": {},
   "outputs": [],
   "source": [
    "training_data_inp = np.array(training_data)[:20,1:]\n",
    "test_data_inp = np.array(training_data)[20:,1:]\n",
    "training_data_labels = np.array(training_data)[:20,0]\n",
    "test_data_labels = np.array(training_data)[20:,0]"
   ]
  },
  {
   "cell_type": "code",
   "execution_count": 60,
   "metadata": {},
   "outputs": [],
   "source": [
    "def r2_score(y_true:array, y_pred:array):\n",
    "    cor_m = np.corrcoef(y_true, y_pred)[0,1]\n",
    "    return cor_m**2\n"
   ]
  },
  {
   "cell_type": "code",
   "execution_count": 61,
   "metadata": {},
   "outputs": [],
   "source": [
    "def raw_r2_score(y_true:array, y_pred:array)->float:\n",
    "    #sum of square of residuals\n",
    "    SSR = (np.linalg.norm((y_true - y_pred)))**2\n",
    "    #sum of square of total\n",
    "    SST = (np.linalg.norm(y_true-np.mean(y_true)))**2\n",
    "    return 1 - SSR/SST"
   ]
  },
  {
   "cell_type": "code",
   "execution_count": 63,
   "metadata": {},
   "outputs": [
    {
     "data": {
      "text/plain": [
       "0.9642857142857141"
      ]
     },
     "execution_count": 63,
     "metadata": {},
     "output_type": "execute_result"
    }
   ],
   "source": [
    "y_true = np.array([1,2,3])\n",
    "y_pred = np.array([1,2,4])\n",
    "\n",
    "r2_score(y_true, y_pred)"
   ]
  },
  {
   "cell_type": "markdown",
   "metadata": {},
   "source": [
    "Check what r2 score is"
   ]
  },
  {
   "cell_type": "code",
   "execution_count": 64,
   "metadata": {},
   "outputs": [],
   "source": [
    "class Simple_Regress:\n",
    "    def __init__(self, deg = 1):\n",
    "        #degree will be used for determining type of fit\n",
    "        self.deg = deg\n",
    "\n",
    "    def curve_fit(self, X,y):\n",
    "        samples, features = X.shape\n",
    "\n",
    "        #just linear for now\n",
    "        thet_predict = np.linalg.inv(np.dot(X.T, X)).dot(X.T).dot(y)\n",
    "        return thet_predict\n",
    "\n",
    "            \n",
    "\n",
    "\n",
    "          \n"
   ]
  },
  {
   "cell_type": "code",
   "execution_count": 65,
   "metadata": {},
   "outputs": [],
   "source": [
    "try1 = Simple_Regress()\n",
    "thet = try1.curve_fit(training_data_inp, training_data_labels)"
   ]
  },
  {
   "cell_type": "code",
   "execution_count": 69,
   "metadata": {},
   "outputs": [],
   "source": [
    "test_data_labels_pred = (test_data_inp).dot((np.matrix(thet).T))"
   ]
  },
  {
   "cell_type": "code",
   "execution_count": 82,
   "metadata": {},
   "outputs": [
    {
     "data": {
      "text/plain": [
       "matrix([[553.98650761],\n",
       "        [ 71.67233826],\n",
       "        [ 33.42500907],\n",
       "        [351.52975139],\n",
       "        [342.61479804],\n",
       "        [524.24634687],\n",
       "        [548.77247662]])"
      ]
     },
     "execution_count": 82,
     "metadata": {},
     "output_type": "execute_result"
    }
   ],
   "source": [
    "test_data_labels_pred"
   ]
  },
  {
   "cell_type": "code",
   "execution_count": 78,
   "metadata": {},
   "outputs": [
    {
     "data": {
      "text/plain": [
       "(1, 7)"
      ]
     },
     "execution_count": 78,
     "metadata": {},
     "output_type": "execute_result"
    }
   ],
   "source": [
    "np.matrix(test_data_labels).shape"
   ]
  },
  {
   "cell_type": "code",
   "execution_count": 84,
   "metadata": {},
   "outputs": [
    {
     "data": {
      "text/plain": [
       "0.9136766612175631"
      ]
     },
     "execution_count": 84,
     "metadata": {},
     "output_type": "execute_result"
    }
   ],
   "source": [
    "raw_r2_score(test_data_labels_pred,np.matrix(test_data_labels).T)"
   ]
  }
 ],
 "metadata": {
  "kernelspec": {
   "display_name": "Python 3.9.13 64-bit (microsoft store)",
   "language": "python",
   "name": "python3"
  },
  "language_info": {
   "codemirror_mode": {
    "name": "ipython",
    "version": 3
   },
   "file_extension": ".py",
   "mimetype": "text/x-python",
   "name": "python",
   "nbconvert_exporter": "python",
   "pygments_lexer": "ipython3",
   "version": "3.9.13"
  },
  "orig_nbformat": 4,
  "vscode": {
   "interpreter": {
    "hash": "33e3c9b1335627e65e54cf2ff2cbda7fcbd377a8aefdc149ed607ee7bd5de613"
   }
  }
 },
 "nbformat": 4,
 "nbformat_minor": 2
}
