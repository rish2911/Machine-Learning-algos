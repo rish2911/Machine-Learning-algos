{
 "cells": [
  {
   "cell_type": "markdown",
   "metadata": {},
   "source": [
    "Importing libraries"
   ]
  },
  {
   "cell_type": "code",
   "execution_count": 78,
   "metadata": {},
   "outputs": [],
   "source": [
    "import numpy as np\n",
    "import matplotlib.pyplot as plt\n",
    "from sklearn.model_selection import train_test_split\n",
    "from sklearn import datasets"
   ]
  },
  {
   "cell_type": "markdown",
   "metadata": {},
   "source": [
    "Class Perceptron"
   ]
  },
  {
   "cell_type": "code",
   "execution_count": 85,
   "metadata": {},
   "outputs": [],
   "source": [
    "\n",
    "def efficiency(y_pred:np.array, y_actual:np.array)->None:\n",
    "    eff = np.sum(y_pred==y_actual)/len(y_actual)\n",
    "    print(eff)\n",
    "\n",
    "\n",
    "class Perceptron:\n",
    "    def __init__(self, learning_rate:float, iterations:int, initial_bias=0, initial_weights=None) -> None:\n",
    "        self.lr = learning_rate\n",
    "        self.iter = iterations\n",
    "        self.bias = initial_bias\n",
    "        self.weights = initial_weights\n",
    "        pass\n",
    "\n",
    "    def training(self, xtr_data:np.array, ytr_data:np.array)->np.array:\n",
    "        nof_samples, nof_features = xtr_data.shape\n",
    "        self.weights = np.zeros((nof_features, 1))\n",
    "\n",
    "        #normalizing data\n",
    "        ytr_data[ytr_data>0] = 1\n",
    "        ytr_data[ytr_data<=0]=0\n",
    "\n",
    "        for i in range(self.iter):\n",
    "            for j in range(nof_samples):\n",
    "\n",
    "                y_pred = np.dot(self.weights.T, xtr_data[j].reshape((2,1))) + self.bias\n",
    "                y_pred = [1 if y_pred >0 else 0]\n",
    "\n",
    "                #provided update rule\n",
    "                correction = self.lr*(ytr_data[j]- y_pred)*xtr_data[j].reshape((2,1))\n",
    "                # print(y_pred)\n",
    "                self.weights+=correction\n",
    "\n",
    "                #because bias consists of value corresponding to 1 in input data\n",
    "                self.bias+= self.lr*(ytr_data[j]- y_pred)\n",
    "\n",
    "        print(self.weights)\n",
    "\n",
    "    def validation(self, xval_data, yval_data):\n",
    "        y_pred = np.dot(self.weights.T, xval_data.T)\n",
    "        y_pred[y_pred>0]=1\n",
    "        y_pred[y_pred<=0]=0\n",
    "        return y_pred\n",
    "\n"
   ]
  },
  {
   "cell_type": "markdown",
   "metadata": {},
   "source": [
    "Writing main function to import, train and test the performance of the data"
   ]
  },
  {
   "cell_type": "code",
   "execution_count": 86,
   "metadata": {},
   "outputs": [],
   "source": [
    "def main(learning_rate = 100, iter = 1000):\n",
    "    \n",
    "    \n",
    "    #getting th data set from sklearn\n",
    "    X_data, y_data = datasets.make_blobs(\n",
    "        n_samples=10100, n_features=2, centers=2, cluster_std=1.05, random_state=2\n",
    "    )\n",
    "    X_train, X_test, y_train, y_test = train_test_split(\n",
    "        X_data, y_data, test_size=0.99, random_state=123\n",
    "    )\n",
    "\n",
    "    obj = Perceptron(learning_rate, iter)\n",
    "    obj.training(X_train, y_train)\n",
    "    y_pred= obj.validation(X_test, y_test)\n",
    "    efficiency(y_pred, y_test)"
   ]
  },
  {
   "cell_type": "code",
   "execution_count": 87,
   "metadata": {},
   "outputs": [
    {
     "name": "stdout",
     "output_type": "stream",
     "text": [
      "[[254.47664203]\n",
      " [337.39355437]]\n",
      "0.6740674067406741\n",
      "[[2.54476642]\n",
      " [3.37393554]]\n",
      "0.6740674067406741\n",
      "[[0.02544766]\n",
      " [0.03373936]]\n",
      "0.6740674067406741\n",
      "[[0.00025448]\n",
      " [0.00033739]]\n",
      "0.6740674067406741\n"
     ]
    }
   ],
   "source": [
    "if __name__=='__main__':\n",
    "    learning_r = [100,1,0.01,0.0001]\n",
    "    for lr in learning_r:\n",
    "        main(lr)"
   ]
  }
 ],
 "metadata": {
  "kernelspec": {
   "display_name": "Python 3.9.13 64-bit (microsoft store)",
   "language": "python",
   "name": "python3"
  },
  "language_info": {
   "codemirror_mode": {
    "name": "ipython",
    "version": 3
   },
   "file_extension": ".py",
   "mimetype": "text/x-python",
   "name": "python",
   "nbconvert_exporter": "python",
   "pygments_lexer": "ipython3",
   "version": "3.9.13"
  },
  "orig_nbformat": 4,
  "vscode": {
   "interpreter": {
    "hash": "33e3c9b1335627e65e54cf2ff2cbda7fcbd377a8aefdc149ed607ee7bd5de613"
   }
  }
 },
 "nbformat": 4,
 "nbformat_minor": 2
}
